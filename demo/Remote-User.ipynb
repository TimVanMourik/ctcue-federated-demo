{
 "cells": [
  {
   "cell_type": "code",
   "execution_count": null,
   "id": "unexpected-motor",
   "metadata": {},
   "outputs": [],
   "source": [
    "import syft as sy"
   ]
  },
  {
   "cell_type": "markdown",
   "id": "included-evidence",
   "metadata": {},
   "source": [
    "# Part 1: Join the Duet Server the Data Owner connected to"
   ]
  },
  {
   "cell_type": "code",
   "execution_count": null,
   "id": "retired-profession",
   "metadata": {
    "scrolled": true
   },
   "outputs": [],
   "source": [
    "import syft as sy\n",
    "duet = sy.duet(\"a936a340fd822136c41aa01764f37d33\")"
   ]
  },
  {
   "cell_type": "markdown",
   "id": "strong-burner",
   "metadata": {},
   "source": [
    "### <img src=\"https://github.com/OpenMined/design-assets/raw/master/logos/OM/mark-primary-light.png\" alt=\"he-black-box\" width=\"100\"/> Checkpoint 0 : Now STOP and run the Data Owner notebook until Checkpoint 1."
   ]
  },
  {
   "cell_type": "code",
   "execution_count": null,
   "id": "aquatic-teens",
   "metadata": {},
   "outputs": [],
   "source": [
    "# The data scientist can check the list of pointable data in Data Owner's duet store\n",
    "duet.store.pandas"
   ]
  },
  {
   "cell_type": "code",
   "execution_count": null,
   "id": "paperback-priest",
   "metadata": {},
   "outputs": [],
   "source": [
    "# Data Scientist likes the age data. (S)He needs a pointer to it.\n",
    "\n",
    "data_ptr = duet.store[0]\n",
    "\n",
    "# data_ptr is a reference to the age dataset remotely available on data owner's server\n",
    "print(data_ptr)"
   ]
  },
  {
   "cell_type": "markdown",
   "id": "prostate-contamination",
   "metadata": {},
   "source": [
    "# Part 3: Perform some basic analysis on the data\n",
    "Now the data scientist can perform analysis on the data that is in the Data Owner's duet server, without the owner having to share his/her data."
   ]
  },
  {
   "cell_type": "markdown",
   "id": "dimensional-missile",
   "metadata": {},
   "source": [
    "### Get average age"
   ]
  },
  {
   "cell_type": "code",
   "execution_count": null,
   "id": "blocked-jersey",
   "metadata": {},
   "outputs": [],
   "source": [
    "average_age = data_ptr.float().mean()"
   ]
  },
  {
   "cell_type": "code",
   "execution_count": null,
   "id": "weekly-documentation",
   "metadata": {
    "scrolled": true
   },
   "outputs": [],
   "source": [
    "# Now the Data Scientist wants to download the result.\n",
    "\n",
    "try:\n",
    "    average_age.get()\n",
    "except Exception as e:\n",
    "    print(e)"
   ]
  },
  {
   "cell_type": "code",
   "execution_count": null,
   "id": "mature-reaction",
   "metadata": {},
   "outputs": [],
   "source": [
    "# Looks like the Data Scientist does not have permission to download this result! He/she needs\n",
    "# to make a request to the Data Owner.\n",
    "\n",
    "average_age.request(reason=\"Please approve!\")"
   ]
  },
  {
   "cell_type": "markdown",
   "id": "caroline-cologne",
   "metadata": {},
   "source": [
    "### <img src=\"https://github.com/OpenMined/design-assets/raw/master/logos/OM/mark-primary-light.png\" alt=\"he-black-box\" width=\"100\"/> Checkpoint 1 : Now STOP and run the Data Owner notebook until Checkpoint 2."
   ]
  },
  {
   "cell_type": "code",
   "execution_count": null,
   "id": "whole-montreal",
   "metadata": {
    "scrolled": true
   },
   "outputs": [],
   "source": [
    "try:\n",
    "    average_age.get()\n",
    "except Exception as e:\n",
    "    print(e)"
   ]
  },
  {
   "cell_type": "code",
   "execution_count": null,
   "id": "flush-assessment",
   "metadata": {},
   "outputs": [],
   "source": [
    "duet.requests.pandas"
   ]
  },
  {
   "cell_type": "code",
   "execution_count": null,
   "id": "clean-opposition",
   "metadata": {},
   "outputs": [],
   "source": [
    "average_age.request(\n",
    "    reason=\"I am MMC data scientist. I love CTcue and I want to try out federated analysis by computing an average age.\"\n",
    ")"
   ]
  },
  {
   "cell_type": "code",
   "execution_count": null,
   "id": "impaired-premiere",
   "metadata": {},
   "outputs": [],
   "source": [
    "duet.requests.pandas"
   ]
  },
  {
   "cell_type": "markdown",
   "id": "practical-yacht",
   "metadata": {},
   "source": [
    "### <img src=\"https://github.com/OpenMined/design-assets/raw/master/logos/OM/mark-primary-light.png\" alt=\"he-black-box\" width=\"100\"/> Checkpoint 2 : Now STOP and run the Data Owner notebook until the next checkpoint."
   ]
  },
  {
   "cell_type": "code",
   "execution_count": null,
   "id": "arabic-dayton",
   "metadata": {},
   "outputs": [],
   "source": [
    "# Once the request disappears - the data scientist can download the result!\n",
    "avg = average_age.get()\n",
    "print(avg)"
   ]
  },
  {
   "cell_type": "markdown",
   "id": "metropolitan-shannon",
   "metadata": {},
   "source": [
    "### Get min and max age"
   ]
  },
  {
   "cell_type": "code",
   "execution_count": null,
   "id": "demonstrated-palmer",
   "metadata": {},
   "outputs": [],
   "source": [
    "duet.torch"
   ]
  },
  {
   "cell_type": "code",
   "execution_count": null,
   "id": "assumed-roberts",
   "metadata": {},
   "outputs": [],
   "source": [
    "max_age = data_ptr.float().amax()\n",
    "min_age = data_ptr.float().amin()"
   ]
  },
  {
   "cell_type": "code",
   "execution_count": null,
   "id": "criminal-copying",
   "metadata": {},
   "outputs": [],
   "source": [
    "max_age_result = max_age.get(\n",
    "    request_block=True,\n",
    "    reason=\"download the maximum age\",\n",
    "    timeout_secs=10,\n",
    ")\n",
    "\n",
    "max_age_result"
   ]
  },
  {
   "cell_type": "code",
   "execution_count": null,
   "id": "selected-piece",
   "metadata": {},
   "outputs": [],
   "source": [
    "min_age_result = min_age.get(\n",
    "    request_block=True,\n",
    "    reason=\"download the minimum age\",\n",
    "    timeout_secs=10,\n",
    ")\n",
    "\n",
    "min_age_result"
   ]
  }
 ],
 "metadata": {
  "kernelspec": {
   "name": "python392jvsc74a57bd05cb65923636eb5f6d59ffc817abb5c8d0915e6bce7f9765c891be85d8406d262",
   "display_name": "Python 3.9.2 64-bit ('pysyft': conda)"
  },
  "language_info": {
   "codemirror_mode": {
    "name": "ipython",
    "version": 3
   },
   "file_extension": ".py",
   "mimetype": "text/x-python",
   "name": "python",
   "nbconvert_exporter": "python",
   "pygments_lexer": "ipython3",
   "version": "3.9.2"
  }
 },
 "nbformat": 4,
 "nbformat_minor": 5
}